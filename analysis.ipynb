{
 "cells": [
  {
   "cell_type": "code",
   "execution_count": 82,
   "id": "b9577f98",
   "metadata": {},
   "outputs": [],
   "source": [
    "#imports:\n",
    "import pandas as pd\n",
    "import numpy as np\n",
    "pd.set_option('display.max_rows', None)\n",
    "pd.set_option('display.max_columns', None)\n",
    "pd.set_option('display.width', None)\n",
    "import datetime"
   ]
  },
  {
   "cell_type": "code",
   "execution_count": 83,
   "id": "34349be5",
   "metadata": {},
   "outputs": [],
   "source": [
    "#file import:\n",
    "raw_data = pd.read_csv(\"C:\\\\Users\\\\ohad\\\\Desktop\\\\11\\\\financials.csv\")"
   ]
  },
  {
   "cell_type": "code",
   "execution_count": 84,
   "id": "05c29f4a",
   "metadata": {},
   "outputs": [
    {
     "data": {
      "text/html": [
       "<div>\n",
       "<style scoped>\n",
       "    .dataframe tbody tr th:only-of-type {\n",
       "        vertical-align: middle;\n",
       "    }\n",
       "\n",
       "    .dataframe tbody tr th {\n",
       "        vertical-align: top;\n",
       "    }\n",
       "\n",
       "    .dataframe thead th {\n",
       "        text-align: right;\n",
       "    }\n",
       "</style>\n",
       "<table border=\"1\" class=\"dataframe\">\n",
       "  <thead>\n",
       "    <tr style=\"text-align: right;\">\n",
       "      <th></th>\n",
       "      <th>customer_id</th>\n",
       "      <th>medicare_id</th>\n",
       "      <th>first_name</th>\n",
       "      <th>last_name</th>\n",
       "      <th>street_addr</th>\n",
       "      <th>city</th>\n",
       "      <th>zipc</th>\n",
       "      <th>phone_num</th>\n",
       "      <th>email</th>\n",
       "      <th>cc_num</th>\n",
       "      <th>transaction_amount</th>\n",
       "      <th>transaction_date</th>\n",
       "    </tr>\n",
       "  </thead>\n",
       "  <tbody>\n",
       "    <tr>\n",
       "      <th>0</th>\n",
       "      <td>1</td>\n",
       "      <td>3NC8KP9GU96</td>\n",
       "      <td>Gillian</td>\n",
       "      <td>McLean</td>\n",
       "      <td>Studio 0, Martin keys</td>\n",
       "      <td>Herbertbury</td>\n",
       "      <td>B9 4ZU</td>\n",
       "      <td>0121 496 0879</td>\n",
       "      <td>zlloyd@example.org</td>\n",
       "      <td>3528001953574659</td>\n",
       "      <td>428.78</td>\n",
       "      <td>2018-01-18T19:48:16</td>\n",
       "    </tr>\n",
       "    <tr>\n",
       "      <th>1</th>\n",
       "      <td>2</td>\n",
       "      <td>9QC5VR2WK40</td>\n",
       "      <td>Robert</td>\n",
       "      <td>Davis</td>\n",
       "      <td>290 Smith estates</td>\n",
       "      <td>South Aimee</td>\n",
       "      <td>IG11 9LH</td>\n",
       "      <td>0115 4960260</td>\n",
       "      <td>tuckermathew@example.com</td>\n",
       "      <td>3586368768543057</td>\n",
       "      <td>33.17</td>\n",
       "      <td>1994-01-16T07:02:27</td>\n",
       "    </tr>\n",
       "    <tr>\n",
       "      <th>2</th>\n",
       "      <td>3</td>\n",
       "      <td>2AT8HN5XD91</td>\n",
       "      <td>Damian</td>\n",
       "      <td>Farrell</td>\n",
       "      <td>Flat 0, Brenda causeway</td>\n",
       "      <td>Port Joannaside</td>\n",
       "      <td>OL21 9NP</td>\n",
       "      <td>01632 960978</td>\n",
       "      <td>marccameron@example.net</td>\n",
       "      <td>3589325461730727</td>\n",
       "      <td>158.51</td>\n",
       "      <td>1998-10-18T00:35:07</td>\n",
       "    </tr>\n",
       "    <tr>\n",
       "      <th>3</th>\n",
       "      <td>4</td>\n",
       "      <td>6MU5-EY5-TG14</td>\n",
       "      <td>Chloe</td>\n",
       "      <td>Williams</td>\n",
       "      <td>70 Janice bypass</td>\n",
       "      <td>East Judith</td>\n",
       "      <td>BR12 8EJ</td>\n",
       "      <td>+44131 496 0802</td>\n",
       "      <td>slaterhannah@example.net</td>\n",
       "      <td>4103-7997-0901-4513</td>\n",
       "      <td>453.72</td>\n",
       "      <td>1996-06-21T02:14:49</td>\n",
       "    </tr>\n",
       "    <tr>\n",
       "      <th>4</th>\n",
       "      <td>5</td>\n",
       "      <td>6DP2EM7XV13</td>\n",
       "      <td>Dorothy</td>\n",
       "      <td>Webb</td>\n",
       "      <td>Flat 6, Marian centers</td>\n",
       "      <td>Angelatown</td>\n",
       "      <td>N8H 1UL</td>\n",
       "      <td>01632 9607623328</td>\n",
       "      <td>zhodgson@example.net</td>\n",
       "      <td>60428779700</td>\n",
       "      <td>12.17</td>\n",
       "      <td>1996-03-07T08:25:57</td>\n",
       "    </tr>\n",
       "  </tbody>\n",
       "</table>\n",
       "</div>"
      ],
      "text/plain": [
       "   customer_id    medicare_id first_name last_name              street_addr  \\\n",
       "0            1    3NC8KP9GU96    Gillian    McLean    Studio 0, Martin keys   \n",
       "1            2    9QC5VR2WK40     Robert     Davis        290 Smith estates   \n",
       "2            3    2AT8HN5XD91     Damian   Farrell  Flat 0, Brenda causeway   \n",
       "3            4  6MU5-EY5-TG14      Chloe  Williams         70 Janice bypass   \n",
       "4            5    6DP2EM7XV13    Dorothy      Webb   Flat 6, Marian centers   \n",
       "\n",
       "              city      zipc         phone_num                     email  \\\n",
       "0      Herbertbury    B9 4ZU     0121 496 0879        zlloyd@example.org   \n",
       "1      South Aimee  IG11 9LH      0115 4960260  tuckermathew@example.com   \n",
       "2  Port Joannaside  OL21 9NP      01632 960978   marccameron@example.net   \n",
       "3      East Judith  BR12 8EJ   +44131 496 0802  slaterhannah@example.net   \n",
       "4       Angelatown   N8H 1UL  01632 9607623328      zhodgson@example.net   \n",
       "\n",
       "                cc_num  transaction_amount     transaction_date  \n",
       "0     3528001953574659              428.78  2018-01-18T19:48:16  \n",
       "1     3586368768543057               33.17  1994-01-16T07:02:27  \n",
       "2     3589325461730727              158.51  1998-10-18T00:35:07  \n",
       "3  4103-7997-0901-4513              453.72  1996-06-21T02:14:49  \n",
       "4          60428779700               12.17  1996-03-07T08:25:57  "
      ]
     },
     "execution_count": 84,
     "metadata": {},
     "output_type": "execute_result"
    }
   ],
   "source": [
    "#first glance at data (for myself)\n",
    "raw_data.head(5)"
   ]
  },
  {
   "cell_type": "code",
   "execution_count": 85,
   "id": "9d7169d3",
   "metadata": {},
   "outputs": [],
   "source": [
    "#for reruns if needed - avoiding multiple improt for big files\n",
    "data = raw_data.copy()"
   ]
  },
  {
   "cell_type": "code",
   "execution_count": 86,
   "id": "4e63f073",
   "metadata": {},
   "outputs": [],
   "source": [
    "#insert here any name of function defined in the section below you would like to run:\n",
    "data_types_list_to_check = ['CCN_search','medicare_id_search']"
   ]
  },
  {
   "cell_type": "code",
   "execution_count": 87,
   "id": "ddab144b",
   "metadata": {},
   "outputs": [],
   "source": [
    "# functions defintion, define here any additional function to run (for different data types):\n",
    "def medicare_id_search(df):\n",
    "    \n",
    "    df['is_medicare_id_found'] = ((df['transaction_date']  >= '2020-01-01' ) & df['medicare_id'].str.contains(r'[A-Z0-9]{4}\\-[A-Z0-9]{3}\\-[A-Z0-9]{4}', regex=True) |\n",
    "                               (df['transaction_date']  < '2020-01-01' ) & df['medicare_id'].str.contains(r'[0-9]{9}[A-Z]', regex=True)\n",
    "                               ).astype(int)\n",
    "    return df\n",
    "\n",
    "\n",
    "def CCN_search(df):\n",
    "    \n",
    "    df['is_CCN_found'] =  (df['cc_num'].str.contains(r'[0-9]{19}|[0-9]{18}|[0-9]{17}|([0-9]{4}\\-?\\_?\\s?[0-9]{4}\\-?\\_?\\s?[0-9]{4}\\-?\\_?\\s?[0-9]{4})', regex=True)).astype(int)\n",
    "    return df\n",
    "    \n",
    "    \n",
    "def search_selected_sensitive_data(df, data_types_list_to_check):\n",
    "\n",
    "    for t in data_types_list_to_check:\n",
    "        exec(t+'(data)')\n",
    "    return df"
   ]
  },
  {
   "cell_type": "code",
   "execution_count": 97,
   "id": "a45f8189",
   "metadata": {},
   "outputs": [
    {
     "name": "stderr",
     "output_type": "stream",
     "text": [
      "C:\\Users\\ohad\\AppData\\Local\\Temp\\ipykernel_16184\\3400996039.py:12: UserWarning: This pattern is interpreted as a regular expression, and has match groups. To actually get the groups, use str.extract.\n",
      "  df['is_CCN_found'] =  (df['cc_num'].str.contains(r'[0-9]{19}|[0-9]{18}|[0-9]{17}|([0-9]{4}\\-?\\_?\\s?[0-9]{4}\\-?\\_?\\s?[0-9]{4}\\-?\\_?\\s?[0-9]{4})', regex=True)).astype(int)\n"
     ]
    }
   ],
   "source": [
    "data = search_selected_sensitive_data(data,data_types_list_to_check)"
   ]
  },
  {
   "cell_type": "code",
   "execution_count": 92,
   "id": "b5cac8b7",
   "metadata": {},
   "outputs": [],
   "source": [
    "#creating a data frame to later put the results into\n",
    "results = pd.DataFrame({\n",
    "    'Date_of_check' : [ datetime.datetime.now().strftime(\"%D %H:%M:%S\")], \n",
    "})"
   ]
  },
  {
   "cell_type": "code",
   "execution_count": 98,
   "id": "f1ce9577",
   "metadata": {},
   "outputs": [
    {
     "name": "stdout",
     "output_type": "stream",
     "text": [
      "CCN_found\n",
      "medicare_id_found\n"
     ]
    }
   ],
   "source": [
    "for t in data_types_list_to_check:\n",
    "    changed = t.replace('search' , 'found')\n",
    "    results[changed] = data['is_'+changed].sum()"
   ]
  },
  {
   "cell_type": "code",
   "execution_count": 100,
   "id": "87d93b65",
   "metadata": {},
   "outputs": [],
   "source": [
    "#write results locally as a csv file\n",
    "results.to_csv(\"C:\\\\Users\\\\ohad\\\\Desktop\\\\11\\\\results.csv\", sep=',', index=True, encoding='utf-8')"
   ]
  },
  {
   "cell_type": "code",
   "execution_count": null,
   "id": "5f6db64b",
   "metadata": {},
   "outputs": [],
   "source": []
  },
  {
   "cell_type": "code",
   "execution_count": null,
   "id": "755cb7db",
   "metadata": {},
   "outputs": [],
   "source": []
  }
 ],
 "metadata": {
  "kernelspec": {
   "display_name": "Python 3 (ipykernel)",
   "language": "python",
   "name": "python3"
  },
  "language_info": {
   "codemirror_mode": {
    "name": "ipython",
    "version": 3
   },
   "file_extension": ".py",
   "mimetype": "text/x-python",
   "name": "python",
   "nbconvert_exporter": "python",
   "pygments_lexer": "ipython3",
   "version": "3.11.5"
  }
 },
 "nbformat": 4,
 "nbformat_minor": 5
}
